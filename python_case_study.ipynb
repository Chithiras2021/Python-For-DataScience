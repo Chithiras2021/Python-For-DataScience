{
  "cells": [
    {
      "cell_type": "code",
      "execution_count": 4,
      "metadata": {
        "id": "b3E7zwkZ8BC-"
      },
      "outputs": [],
      "source": [
        "import pandas as pd  \n",
        "import numpy as np"
      ]
    },
    {
      "cell_type": "code",
      "execution_count": 7,
      "metadata": {
        "id": "7pckAFfn8BDB"
      },
      "outputs": [],
      "source": [
        "data = pd.read_excel(\"/Telco-Customer-Churn.xlsx\")"
      ]
    },
    {
      "cell_type": "markdown",
      "metadata": {
        "id": "5va4EpQj8BDC"
      },
      "source": [
        "# Question 1 "
      ]
    },
    {
      "cell_type": "code",
      "execution_count": 8,
      "metadata": {
        "scrolled": true,
        "colab": {
          "base_uri": "https://localhost:8080/",
          "height": 313
        },
        "id": "PSsjRBQ18BDE",
        "outputId": "82e9f10d-a824-4548-a6a1-e6b0daf2603c"
      },
      "outputs": [
        {
          "output_type": "execute_result",
          "data": {
            "text/html": [
              "<div>\n",
              "<style scoped>\n",
              "    .dataframe tbody tr th:only-of-type {\n",
              "        vertical-align: middle;\n",
              "    }\n",
              "\n",
              "    .dataframe tbody tr th {\n",
              "        vertical-align: top;\n",
              "    }\n",
              "\n",
              "    .dataframe thead th {\n",
              "        text-align: right;\n",
              "    }\n",
              "</style>\n",
              "<table border=\"1\" class=\"dataframe\">\n",
              "  <thead>\n",
              "    <tr style=\"text-align: right;\">\n",
              "      <th></th>\n",
              "      <th>customerID</th>\n",
              "      <th>gender</th>\n",
              "      <th>SeniorCitizen</th>\n",
              "      <th>Partner</th>\n",
              "      <th>Dependents</th>\n",
              "      <th>tenure</th>\n",
              "      <th>PhoneService</th>\n",
              "      <th>MultipleLines</th>\n",
              "      <th>InternetService</th>\n",
              "      <th>OnlineSecurity</th>\n",
              "      <th>OnlineBackup</th>\n",
              "      <th>DeviceProtection</th>\n",
              "      <th>TechSupport</th>\n",
              "      <th>StreamingTV</th>\n",
              "      <th>StreamingMovies</th>\n",
              "      <th>Contract</th>\n",
              "      <th>PaperlessBilling</th>\n",
              "      <th>PaymentMethod</th>\n",
              "      <th>MonthlyCharges</th>\n",
              "      <th>TotalCharges</th>\n",
              "      <th>Churn</th>\n",
              "    </tr>\n",
              "  </thead>\n",
              "  <tbody>\n",
              "    <tr>\n",
              "      <th>0</th>\n",
              "      <td>7590-VHVEG</td>\n",
              "      <td>Female</td>\n",
              "      <td>0</td>\n",
              "      <td>Yes</td>\n",
              "      <td>No</td>\n",
              "      <td>1</td>\n",
              "      <td>No</td>\n",
              "      <td>No phone service</td>\n",
              "      <td>DSL</td>\n",
              "      <td>No</td>\n",
              "      <td>Yes</td>\n",
              "      <td>No</td>\n",
              "      <td>No</td>\n",
              "      <td>No</td>\n",
              "      <td>No</td>\n",
              "      <td>Month-to-month</td>\n",
              "      <td>Yes</td>\n",
              "      <td>Electronic check</td>\n",
              "      <td>29.85</td>\n",
              "      <td>29.85</td>\n",
              "      <td>No</td>\n",
              "    </tr>\n",
              "    <tr>\n",
              "      <th>1</th>\n",
              "      <td>5575-GNVDE</td>\n",
              "      <td>Male</td>\n",
              "      <td>0</td>\n",
              "      <td>No</td>\n",
              "      <td>No</td>\n",
              "      <td>34</td>\n",
              "      <td>Yes</td>\n",
              "      <td>No</td>\n",
              "      <td>DSL</td>\n",
              "      <td>Yes</td>\n",
              "      <td>No</td>\n",
              "      <td>Yes</td>\n",
              "      <td>No</td>\n",
              "      <td>No</td>\n",
              "      <td>No</td>\n",
              "      <td>One year</td>\n",
              "      <td>No</td>\n",
              "      <td>Mailed check</td>\n",
              "      <td>56.95</td>\n",
              "      <td>1889.50</td>\n",
              "      <td>No</td>\n",
              "    </tr>\n",
              "    <tr>\n",
              "      <th>2</th>\n",
              "      <td>3668-QPYBK</td>\n",
              "      <td>Male</td>\n",
              "      <td>0</td>\n",
              "      <td>No</td>\n",
              "      <td>No</td>\n",
              "      <td>2</td>\n",
              "      <td>Yes</td>\n",
              "      <td>No</td>\n",
              "      <td>DSL</td>\n",
              "      <td>Yes</td>\n",
              "      <td>Yes</td>\n",
              "      <td>No</td>\n",
              "      <td>No</td>\n",
              "      <td>No</td>\n",
              "      <td>No</td>\n",
              "      <td>Month-to-month</td>\n",
              "      <td>Yes</td>\n",
              "      <td>Mailed check</td>\n",
              "      <td>53.85</td>\n",
              "      <td>108.15</td>\n",
              "      <td>Yes</td>\n",
              "    </tr>\n",
              "    <tr>\n",
              "      <th>3</th>\n",
              "      <td>7795-CFOCW</td>\n",
              "      <td>Male</td>\n",
              "      <td>0</td>\n",
              "      <td>No</td>\n",
              "      <td>No</td>\n",
              "      <td>45</td>\n",
              "      <td>No</td>\n",
              "      <td>No phone service</td>\n",
              "      <td>DSL</td>\n",
              "      <td>Yes</td>\n",
              "      <td>No</td>\n",
              "      <td>Yes</td>\n",
              "      <td>Yes</td>\n",
              "      <td>No</td>\n",
              "      <td>No</td>\n",
              "      <td>One year</td>\n",
              "      <td>No</td>\n",
              "      <td>Bank transfer (automatic)</td>\n",
              "      <td>42.30</td>\n",
              "      <td>1840.75</td>\n",
              "      <td>No</td>\n",
              "    </tr>\n",
              "    <tr>\n",
              "      <th>4</th>\n",
              "      <td>9237-HQITU</td>\n",
              "      <td>Female</td>\n",
              "      <td>0</td>\n",
              "      <td>No</td>\n",
              "      <td>No</td>\n",
              "      <td>2</td>\n",
              "      <td>Yes</td>\n",
              "      <td>No</td>\n",
              "      <td>Fiber optic</td>\n",
              "      <td>No</td>\n",
              "      <td>No</td>\n",
              "      <td>No</td>\n",
              "      <td>No</td>\n",
              "      <td>No</td>\n",
              "      <td>No</td>\n",
              "      <td>Month-to-month</td>\n",
              "      <td>Yes</td>\n",
              "      <td>Electronic check</td>\n",
              "      <td>70.70</td>\n",
              "      <td>151.65</td>\n",
              "      <td>Yes</td>\n",
              "    </tr>\n",
              "  </tbody>\n",
              "</table>\n",
              "</div>"
            ],
            "text/plain": [
              "   customerID  gender  SeniorCitizen  ... MonthlyCharges TotalCharges  Churn\n",
              "0  7590-VHVEG  Female              0  ...          29.85        29.85     No\n",
              "1  5575-GNVDE    Male              0  ...          56.95      1889.50     No\n",
              "2  3668-QPYBK    Male              0  ...          53.85       108.15    Yes\n",
              "3  7795-CFOCW    Male              0  ...          42.30      1840.75     No\n",
              "4  9237-HQITU  Female              0  ...          70.70       151.65    Yes\n",
              "\n",
              "[5 rows x 21 columns]"
            ]
          },
          "metadata": {},
          "execution_count": 8
        }
      ],
      "source": [
        "data.head()  "
      ]
    },
    {
      "cell_type": "code",
      "execution_count": 14,
      "metadata": {
        "id": "G10ppfRo8BDF"
      },
      "outputs": [],
      "source": [
        "data1 = data[data[\"Churn\"]==\"No\"]                                                          # customers who own services"
      ]
    },
    {
      "cell_type": "code",
      "execution_count": 15,
      "metadata": {
        "colab": {
          "base_uri": "https://localhost:8080/"
        },
        "id": "u7-hJwRa8BDG",
        "outputId": "dd59d1ad-9fe1-4b2f-e000-6aeff31afb59"
      },
      "outputs": [
        {
          "output_type": "execute_result",
          "data": {
            "text/plain": [
              "Male      2625\n",
              "Female    2549\n",
              "Name: gender, dtype: int64"
            ]
          },
          "metadata": {},
          "execution_count": 15
        }
      ],
      "source": [
        "data1[\"gender\"].value_counts() "
      ]
    },
    {
      "cell_type": "code",
      "execution_count": 16,
      "metadata": {
        "colab": {
          "base_uri": "https://localhost:8080/"
        },
        "id": "ptKH8qN38BDH",
        "outputId": "c6e3fa4e-3ac3-4b65-ee8c-5493e60540f3"
      },
      "outputs": [
        {
          "output_type": "execute_result",
          "data": {
            "text/plain": [
              "0    4508\n",
              "1     666\n",
              "Name: SeniorCitizen, dtype: int64"
            ]
          },
          "metadata": {},
          "execution_count": 16
        }
      ],
      "source": [
        "data1[\"SeniorCitizen\"].value_counts() "
      ]
    },
    {
      "cell_type": "markdown",
      "metadata": {
        "id": "SWY8waxU8BDI"
      },
      "source": [
        "# Question 2"
      ]
    },
    {
      "cell_type": "code",
      "execution_count": 17,
      "metadata": {
        "scrolled": false,
        "id": "x6Hr8ory8BDI"
      },
      "outputs": [],
      "source": [
        "data2 = data[data[\"Churn\"]==\"Yes\"]                                                        # customers who left services"
      ]
    },
    {
      "cell_type": "code",
      "execution_count": 18,
      "metadata": {
        "colab": {
          "base_uri": "https://localhost:8080/"
        },
        "id": "SPPX4A_L8BDJ",
        "outputId": "193b1102-0d5d-495a-e9fc-ff9cc2723f2c"
      },
      "outputs": [
        {
          "output_type": "execute_result",
          "data": {
            "text/plain": [
              "Female    939\n",
              "Male      930\n",
              "Name: gender, dtype: int64"
            ]
          },
          "metadata": {},
          "execution_count": 18
        }
      ],
      "source": [
        "data2[\"gender\"].value_counts()"
      ]
    },
    {
      "cell_type": "code",
      "execution_count": null,
      "metadata": {
        "id": "QQ1zvnMc8BDJ",
        "outputId": "d3846629-af62-4541-af4b-9605b0c8e82b"
      },
      "outputs": [
        {
          "data": {
            "text/plain": [
              "0    1393\n",
              "1     476\n",
              "Name: SeniorCitizen, dtype: int64"
            ]
          },
          "execution_count": 12,
          "metadata": {},
          "output_type": "execute_result"
        }
      ],
      "source": [
        "data2[\"SeniorCitizen\"].value_counts()"
      ]
    },
    {
      "cell_type": "markdown",
      "metadata": {
        "id": "zfrtq-o38BDK"
      },
      "source": [
        "# Question 3"
      ]
    },
    {
      "cell_type": "code",
      "execution_count": null,
      "metadata": {
        "id": "4Ctw9t_r8BDL",
        "outputId": "8c5661f0-8cf2-41e2-862f-d715828c08ac"
      },
      "outputs": [
        {
          "data": {
            "text/plain": [
              "array(['Electronic check', 'Mailed check', 'Bank transfer (automatic)',\n",
              "       'Credit card (automatic)'], dtype=object)"
            ]
          },
          "execution_count": 13,
          "metadata": {},
          "output_type": "execute_result"
        }
      ],
      "source": [
        "data[\"PaymentMethod\"].unique()                                                                #finding unique values of the column PaymentMethod        "
      ]
    },
    {
      "cell_type": "code",
      "execution_count": null,
      "metadata": {
        "id": "wV5fQw2x8BDL",
        "outputId": "206f14d2-a0f2-49ac-d398-e449f50a3e20"
      },
      "outputs": [
        {
          "data": {
            "text/plain": [
              "array(['Month-to-month', 'One year', 'Two year'], dtype=object)"
            ]
          },
          "execution_count": 14,
          "metadata": {},
          "output_type": "execute_result"
        }
      ],
      "source": [
        "data['Contract'].unique()                                                                     #finding unique values of the column Contract"
      ]
    },
    {
      "cell_type": "code",
      "execution_count": 13,
      "metadata": {
        "colab": {
          "base_uri": "https://localhost:8080/"
        },
        "id": "m79rQUen8BDL",
        "outputId": "e0a049ac-2433-4d58-836d-018589cc6a75"
      },
      "outputs": [
        {
          "output_type": "execute_result",
          "data": {
            "text/plain": [
              "Mailed check                 25.202938\n",
              "Electronic check             25.009664\n",
              "Credit card (automatic)      24.932354\n",
              "Bank transfer (automatic)    24.855044\n",
              "Name: PaymentMethod, dtype: float64"
            ]
          },
          "metadata": {},
          "execution_count": 13
        }
      ],
      "source": [
        "data1[\"PaymentMethod\"].value_counts(normalize = True)*100                                     # payment method of customers who own connection"
      ]
    },
    {
      "cell_type": "code",
      "execution_count": 15,
      "metadata": {
        "colab": {
          "base_uri": "https://localhost:8080/"
        },
        "id": "Fnx4kDc68BDM",
        "outputId": "bba6a934-9b53-4433-b749-bd5ef6391b19"
      },
      "outputs": [
        {
          "output_type": "execute_result",
          "data": {
            "text/plain": [
              "Electronic check             57.303371\n",
              "Mailed check                 16.479401\n",
              "Bank transfer (automatic)    13.804173\n",
              "Credit card (automatic)      12.413055\n",
              "Name: PaymentMethod, dtype: float64"
            ]
          },
          "metadata": {},
          "execution_count": 15
        }
      ],
      "source": [
        "data2[\"PaymentMethod\"].value_counts(normalize = True)*100                                     # payment method of customers who left services"
      ]
    },
    {
      "cell_type": "code",
      "execution_count": 9,
      "metadata": {
        "colab": {
          "base_uri": "https://localhost:8080/"
        },
        "id": "Bf85KOdd8BDM",
        "outputId": "df733de4-fdd8-422d-be42-a02f875f477c"
      },
      "outputs": [
        {
          "output_type": "execute_result",
          "data": {
            "text/plain": [
              "Electronic check             47.741935\n",
              "Mailed check                 23.045161\n",
              "Bank transfer (automatic)    15.200000\n",
              "Credit card (automatic)      14.012903\n",
              "Name: PaymentMethod, dtype: float64"
            ]
          },
          "metadata": {},
          "execution_count": 9
        }
      ],
      "source": [
        "data3 = data[data['Contract'] == 'Month-to-month']  \n",
        "data4 = data[data['Contract'] == 'One year']     \n",
        "data5 = data[data['Contract'] == 'Two year']      \n",
        "\n",
        "data3[\"PaymentMethod\"].value_counts(normalize = True)*100                                  # payment method based on customers having Month-to-Month contract in percentage\n"
      ]
    },
    {
      "cell_type": "code",
      "execution_count": 10,
      "metadata": {
        "colab": {
          "base_uri": "https://localhost:8080/"
        },
        "id": "xSzaqGjI8BDN",
        "outputId": "9c8fda15-bdd6-44f3-ee4f-a61b3b0ec53f"
      },
      "outputs": [
        {
          "output_type": "execute_result",
          "data": {
            "text/plain": [
              "Credit card (automatic)      27.019688\n",
              "Bank transfer (automatic)    26.544467\n",
              "Electronic check             23.557366\n",
              "Mailed check                 22.878479\n",
              "Name: PaymentMethod, dtype: float64"
            ]
          },
          "metadata": {},
          "execution_count": 10
        }
      ],
      "source": [
        "data4[\"PaymentMethod\"].value_counts(normalize = True)*100                                 # payment method based on customers having ONE YEAR CONTRACT in percentage"
      ]
    },
    {
      "cell_type": "code",
      "execution_count": 11,
      "metadata": {
        "colab": {
          "base_uri": "https://localhost:8080/"
        },
        "id": "JFdLlsBU8BDN",
        "outputId": "cd99446f-9470-4606-a56f-8a9662521e82"
      },
      "outputs": [
        {
          "output_type": "execute_result",
          "data": {
            "text/plain": [
              "Credit card (automatic)      34.277286\n",
              "Bank transfer (automatic)    33.274336\n",
              "Mailed check                 22.536873\n",
              "Electronic check              9.911504\n",
              "Name: PaymentMethod, dtype: float64"
            ]
          },
          "metadata": {},
          "execution_count": 11
        }
      ],
      "source": [
        "data5[\"PaymentMethod\"].value_counts(normalize = True)*100                                 # payment method based on customers having TWO YEAR CONTRACT in percentage"
      ]
    },
    {
      "cell_type": "markdown",
      "metadata": {
        "id": "hjAvscrz8BDN"
      },
      "source": [
        "# Question 4"
      ]
    },
    {
      "cell_type": "code",
      "execution_count": 12,
      "metadata": {
        "colab": {
          "base_uri": "https://localhost:8080/"
        },
        "id": "qTJr-9hZ8BDO",
        "outputId": "f628227c-0117-44c6-de8c-8bef678e1525"
      },
      "outputs": [
        {
          "output_type": "execute_result",
          "data": {
            "text/plain": [
              "array(['DSL', 'Fiber optic', 'No'], dtype=object)"
            ]
          },
          "metadata": {},
          "execution_count": 12
        }
      ],
      "source": [
        "data['InternetService'].unique() "
      ]
    },
    {
      "cell_type": "code",
      "execution_count": 55,
      "metadata": {
        "colab": {
          "base_uri": "https://localhost:8080/"
        },
        "id": "wISTcuRJ8BDO",
        "outputId": "5a6ad510-6dd8-44eb-81db-e5bc222335f9"
      },
      "outputs": [
        {
          "output_type": "stream",
          "name": "stderr",
          "text": [
            "/usr/local/lib/python3.7/dist-packages/ipykernel_launcher.py:1: UserWarning: Boolean Series key will be reindexed to match DataFrame index.\n",
            "  \"\"\"Entry point for launching an IPython kernel.\n"
          ]
        },
        {
          "output_type": "execute_result",
          "data": {
            "text/plain": [
              "DSL            37.828571\n",
              "Fiber optic    34.666667\n",
              "No             27.504762\n",
              "Name: InternetService, dtype: float64"
            ]
          },
          "metadata": {},
          "execution_count": 55
        }
      ],
      "source": [
        "data6 = data1[data[\"gender\"] == \"Male\"]                                                                #  internet preference by Male customers who own service in percentage\n",
        "\n",
        "data6['InternetService'].value_counts(normalize = True)*100\n"
      ]
    },
    {
      "cell_type": "code",
      "execution_count": 21,
      "metadata": {
        "colab": {
          "base_uri": "https://localhost:8080/"
        },
        "id": "8zm8fNsJ8BDO",
        "outputId": "41324f0b-8730-48fd-c370-517f4f93871d"
      },
      "outputs": [
        {
          "output_type": "stream",
          "name": "stderr",
          "text": [
            "/usr/local/lib/python3.7/dist-packages/ipykernel_launcher.py:1: UserWarning: Boolean Series key will be reindexed to match DataFrame index.\n",
            "  \"\"\"Entry point for launching an IPython kernel.\n"
          ]
        },
        {
          "output_type": "execute_result",
          "data": {
            "text/plain": [
              "Fiber optic    68.064516\n",
              "DSL            25.806452\n",
              "No              6.129032\n",
              "Name: InternetService, dtype: float64"
            ]
          },
          "metadata": {},
          "execution_count": 21
        }
      ],
      "source": [
        "data7 = data2[data[\"gender\"] == \"Male\"]                                                              # internet preferences by male customers who left services in %\n",
        "data7['InternetService'].value_counts(normalize = True)*100\n"
      ]
    },
    {
      "cell_type": "code",
      "execution_count": 22,
      "metadata": {
        "colab": {
          "base_uri": "https://localhost:8080/"
        },
        "id": "SJlBSyCP8BDO",
        "outputId": "4ae9ce06-61b4-478a-ac1d-ad5085d63098"
      },
      "outputs": [
        {
          "output_type": "stream",
          "name": "stderr",
          "text": [
            "/usr/local/lib/python3.7/dist-packages/ipykernel_launcher.py:1: UserWarning: Boolean Series key will be reindexed to match DataFrame index.\n",
            "  \"\"\"Entry point for launching an IPython kernel.\n"
          ]
        },
        {
          "output_type": "execute_result",
          "data": {
            "text/plain": [
              "DSL            38.014908\n",
              "Fiber optic    34.876422\n",
              "No             27.108670\n",
              "Name: InternetService, dtype: float64"
            ]
          },
          "metadata": {},
          "execution_count": 22
        }
      ],
      "source": [
        "data8 = data1[data[\"gender\"] == \"Female\"]                                                         # Internetpreference by Female customers who own service in percentage\n",
        "data8['InternetService'].value_counts(normalize = True)*100\n",
        "\n"
      ]
    },
    {
      "cell_type": "code",
      "execution_count": 23,
      "metadata": {
        "colab": {
          "base_uri": "https://localhost:8080/"
        },
        "id": "Cw7BydOQ8BDP",
        "outputId": "52c1f7d9-9b46-4d3b-dd2d-96e18d14f0dc"
      },
      "outputs": [
        {
          "output_type": "stream",
          "name": "stderr",
          "text": [
            "/usr/local/lib/python3.7/dist-packages/ipykernel_launcher.py:1: UserWarning: Boolean Series key will be reindexed to match DataFrame index.\n",
            "  \"\"\"Entry point for launching an IPython kernel.\n"
          ]
        },
        {
          "output_type": "execute_result",
          "data": {
            "text/plain": [
              "Fiber optic    70.713525\n",
              "DSL            23.322684\n",
              "No              5.963791\n",
              "Name: InternetService, dtype: float64"
            ]
          },
          "metadata": {},
          "execution_count": 23
        }
      ],
      "source": [
        "data9 = data2[data[\"gender\"] == \"Female\"]                                                       # Internet preference by Female customers  who left their service in percentage\n",
        "data9['InternetService'].value_counts(normalize = True)*100"
      ]
    },
    {
      "cell_type": "markdown",
      "metadata": {
        "id": "jT-IfFVh8BDP"
      },
      "source": [
        "# Question 5 (Descriptive statistics of Total Charges)"
      ]
    },
    {
      "cell_type": "code",
      "execution_count": 40,
      "metadata": {
        "colab": {
          "base_uri": "https://localhost:8080/"
        },
        "id": "DiXt6z8U8BDP",
        "outputId": "4e95dedd-c18f-4ca6-b8fb-aec58f5f53de"
      },
      "outputs": [
        {
          "output_type": "execute_result",
          "data": {
            "text/plain": [
              "Index(['customerID', 'gender', 'SeniorCitizen', 'Partner', 'Dependents',\n",
              "       'tenure', 'PhoneService', 'MultipleLines', 'InternetService',\n",
              "       'OnlineSecurity', 'OnlineBackup', 'DeviceProtection', 'TechSupport',\n",
              "       'StreamingTV', 'StreamingMovies', 'Contract', 'PaperlessBilling',\n",
              "       'PaymentMethod', 'MonthlyCharges', 'TotalCharges', 'Churn'],\n",
              "      dtype='object')"
            ]
          },
          "metadata": {},
          "execution_count": 40
        }
      ],
      "source": [
        "data.columns"
      ]
    },
    {
      "cell_type": "code",
      "execution_count": 41,
      "metadata": {
        "colab": {
          "base_uri": "https://localhost:8080/"
        },
        "id": "_KMgGXFC8BDP",
        "outputId": "7e64f54b-3997-4c34-efd7-cf8b41515a32"
      },
      "outputs": [
        {
          "output_type": "execute_result",
          "data": {
            "text/plain": [
              "count    3555.000000\n",
              "mean     2291.680667\n",
              "std      2273.095299\n",
              "min        18.800000\n",
              "25%       399.275000\n",
              "50%      1406.000000\n",
              "75%      3778.100000\n",
              "max      8684.800000\n",
              "Name: TotalCharges, dtype: float64"
            ]
          },
          "metadata": {},
          "execution_count": 41
        }
      ],
      "source": [
        "d0 = data[data['gender']== 'Male']                                                    #based on male customers\n",
        "d0['TotalCharges'].describe()"
      ]
    },
    {
      "cell_type": "code",
      "execution_count": 42,
      "metadata": {
        "colab": {
          "base_uri": "https://localhost:8080/"
        },
        "id": "oyBAhR-g8BDQ",
        "outputId": "8bb4a3fc-02be-432d-9b73-e2175cb37911"
      },
      "outputs": [
        {
          "output_type": "execute_result",
          "data": {
            "text/plain": [
              "count    3488.000000\n",
              "mean     2289.338308\n",
              "std      2276.695359\n",
              "min        18.850000\n",
              "25%       403.300000\n",
              "50%      1389.050000\n",
              "75%      3834.062500\n",
              "max      8672.450000\n",
              "Name: TotalCharges, dtype: float64"
            ]
          },
          "metadata": {},
          "execution_count": 42
        }
      ],
      "source": [
        "d2 = data[data['gender'] == 'Female']                                                # based on female customers\n",
        "d2['TotalCharges'].describe()"
      ]
    },
    {
      "cell_type": "code",
      "execution_count": 43,
      "metadata": {
        "colab": {
          "base_uri": "https://localhost:8080/"
        },
        "id": "CN6ifQFs8BDQ",
        "outputId": "df3316dc-ab68-463d-834f-1a91f53498a9"
      },
      "outputs": [
        {
          "output_type": "execute_result",
          "data": {
            "text/plain": [
              "count    3875.000000\n",
              "mean     1369.254581\n",
              "std      1613.879008\n",
              "min        18.850000\n",
              "25%       160.100000\n",
              "50%       679.550000\n",
              "75%      2066.500000\n",
              "max      8061.500000\n",
              "Name: TotalCharges, dtype: float64"
            ]
          },
          "metadata": {},
          "execution_count": 43
        }
      ],
      "source": [
        "d3 = data[data['Contract'] == \"Month-to-month\"]                                    # based on month-to-month contract\n",
        "d3['TotalCharges'].describe()"
      ]
    },
    {
      "cell_type": "code",
      "execution_count": 44,
      "metadata": {
        "colab": {
          "base_uri": "https://localhost:8080/"
        },
        "id": "zFfzZBZS8BDQ",
        "outputId": "e1f6cf45-85c7-4ce3-f7dd-ffcb0c771de7"
      },
      "outputs": [
        {
          "output_type": "execute_result",
          "data": {
            "text/plain": [
              "count    1473.000000\n",
              "mean     3038.377461\n",
              "std      2233.477741\n",
              "min        18.800000\n",
              "25%       989.450000\n",
              "50%      2658.400000\n",
              "75%      4860.350000\n",
              "max      8684.800000\n",
              "Name: TotalCharges, dtype: float64"
            ]
          },
          "metadata": {},
          "execution_count": 44
        }
      ],
      "source": [
        "d4 = data[data['Contract'] == \"One year\"]                                         # based on One year contract\n",
        "d4[\"TotalCharges\"].describe()"
      ]
    },
    {
      "cell_type": "code",
      "execution_count": 45,
      "metadata": {
        "colab": {
          "base_uri": "https://localhost:8080/"
        },
        "id": "nEN18bi_8BDQ",
        "outputId": "b5dcf71e-00f3-46d9-f574-5aa75cd8cb74"
      },
      "outputs": [
        {
          "output_type": "execute_result",
          "data": {
            "text/plain": [
              "count    1695.000000\n",
              "mean     3746.752383\n",
              "std      2582.454154\n",
              "min        20.350000\n",
              "25%      1280.125000\n",
              "50%      3638.250000\n",
              "75%      6044.300000\n",
              "max      8672.450000\n",
              "Name: TotalCharges, dtype: float64"
            ]
          },
          "metadata": {},
          "execution_count": 45
        }
      ],
      "source": [
        "d5 = data[data['Contract'] == \"Two year\"]                                            # based on two year contract\n",
        "d5['TotalCharges'].describe()"
      ]
    },
    {
      "cell_type": "code",
      "source": [
        "data[\"PaymentMethod\"].unique()"
      ],
      "metadata": {
        "colab": {
          "base_uri": "https://localhost:8080/"
        },
        "id": "pLF1iol_vG2Y",
        "outputId": "04519730-f195-40af-8a25-4a8cb481bd16"
      },
      "execution_count": 49,
      "outputs": [
        {
          "output_type": "execute_result",
          "data": {
            "text/plain": [
              "array(['Electronic check', 'Mailed check', 'Bank transfer (automatic)',\n",
              "       'Credit card (automatic)'], dtype=object)"
            ]
          },
          "metadata": {},
          "execution_count": 49
        }
      ]
    },
    {
      "cell_type": "code",
      "execution_count": 51,
      "metadata": {
        "colab": {
          "base_uri": "https://localhost:8080/"
        },
        "id": "5V02ynqL8BDQ",
        "outputId": "005a6597-6fba-44aa-a3f0-c2fe99a0d1f6"
      },
      "outputs": [
        {
          "output_type": "execute_result",
          "data": {
            "text/plain": [
              "count    1612.000000\n",
              "mean     1083.236973\n",
              "std      1509.101844\n",
              "min        18.800000\n",
              "25%       116.937500\n",
              "50%       473.675000\n",
              "75%      1316.000000\n",
              "max      8476.500000\n",
              "Name: TotalCharges, dtype: float64"
            ]
          },
          "metadata": {},
          "execution_count": 51
        }
      ],
      "source": [
        "d6 = data[data['PaymentMethod'] == 'Mailed check']                                       #  based on Customers using mailed check Payment\n",
        "d6['TotalCharges'].describe()"
      ]
    },
    {
      "cell_type": "code",
      "execution_count": 52,
      "metadata": {
        "colab": {
          "base_uri": "https://localhost:8080/"
        },
        "id": "hHCysaFe8BDR",
        "outputId": "7f40a07f-c442-49ac-d2d2-edc83d693e87"
      },
      "outputs": [
        {
          "output_type": "execute_result",
          "data": {
            "text/plain": [
              "count    2365.000000\n",
              "mean     2090.868182\n",
              "std      2155.435320\n",
              "min        18.850000\n",
              "25%       308.050000\n",
              "50%      1253.900000\n",
              "75%      3340.550000\n",
              "max      8564.750000\n",
              "Name: TotalCharges, dtype: float64"
            ]
          },
          "metadata": {},
          "execution_count": 52
        }
      ],
      "source": [
        "d7 = data[data['PaymentMethod'] == 'Electronic check']                                    #based on Customers using Electronic check Payment \n",
        "d7['TotalCharges'].describe()"
      ]
    },
    {
      "cell_type": "code",
      "execution_count": 53,
      "metadata": {
        "colab": {
          "base_uri": "https://localhost:8080/"
        },
        "id": "yLJNeZpS8BDR",
        "outputId": "a9edd69c-b26d-499a-c283-76eb42158156"
      },
      "outputs": [
        {
          "output_type": "execute_result",
          "data": {
            "text/plain": [
              "count    1544.000000\n",
              "mean     3083.566023\n",
              "std      2360.362773\n",
              "min        19.250000\n",
              "25%      1052.387500\n",
              "50%      2479.500000\n",
              "75%      4948.337500\n",
              "max      8684.800000\n",
              "Name: TotalCharges, dtype: float64"
            ]
          },
          "metadata": {},
          "execution_count": 53
        }
      ],
      "source": [
        "d8 = data[data['PaymentMethod'] == 'Bank transfer (automatic)']                            #based on Bank transfer Method\n",
        "d8['TotalCharges'].describe()"
      ]
    },
    {
      "cell_type": "code",
      "execution_count": 54,
      "metadata": {
        "colab": {
          "base_uri": "https://localhost:8080/"
        },
        "id": "c_TEauWA8BDR",
        "outputId": "9ff5bfeb-78e1-48c1-c479-533cfa358d3b"
      },
      "outputs": [
        {
          "output_type": "execute_result",
          "data": {
            "text/plain": [
              "count    1522.000000\n",
              "mean     3074.920894\n",
              "std      2410.536742\n",
              "min        19.300000\n",
              "25%       989.400000\n",
              "50%      2454.175000\n",
              "75%      5016.550000\n",
              "max      8670.100000\n",
              "Name: TotalCharges, dtype: float64"
            ]
          },
          "metadata": {},
          "execution_count": 54
        }
      ],
      "source": [
        "d9 = data[data['PaymentMethod'] == 'Credit card (automatic)']                              # based on credit card method\n",
        "d9['TotalCharges'].describe()"
      ]
    }
  ],
  "metadata": {
    "kernelspec": {
      "display_name": "Python 3",
      "language": "python",
      "name": "python3"
    },
    "language_info": {
      "codemirror_mode": {
        "name": "ipython",
        "version": 3
      },
      "file_extension": ".py",
      "mimetype": "text/x-python",
      "name": "python",
      "nbconvert_exporter": "python",
      "pygments_lexer": "ipython3",
      "version": "3.8.8"
    },
    "colab": {
      "name": "python case study.ipynb",
      "provenance": []
    }
  },
  "nbformat": 4,
  "nbformat_minor": 0
}